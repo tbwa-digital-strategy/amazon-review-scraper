{
 "cells": [
  {
   "cell_type": "code",
   "execution_count": 103,
   "metadata": {},
   "outputs": [],
   "source": [
    "from lxml import html  \n",
    "import requests\n",
    "import pandas as pd\n",
    "from bs4 import BeautifulSoup\n",
    "\n",
    "amazon_urls = ['https://www.amazon.com/Centrum-Multivitamin-Multimineral-Supplement-Antioxidants/product-reviews/B00HLK0KAW/ref=cm_cr_dp_d_show_all_top?ie=UTF8&reviewerType=all_reviews',\n",
    "               'https://www.amazon.com/Centrum-Multivitamin-Multimineral-Supplement-Vitamin/product-reviews/B072PVP4CJ/ref=cm_cr_dp_d_show_all_top?ie=UTF8&reviewerType=all_reviews',\n",
    "               'https://www.amazon.com/Centrum-Multivitamin-Multimineral-Supplement-Vitamin/product-reviews/B0000VLXUA/ref=cm_cr_dp_d_show_all_top?ie=UTF8&reviewerType=all_reviews',   \n",
    "               'https://www.amazon.com/Centrum-Multivitamin-Multimineral-Supplement-Vitamin/product-reviews/B003G4BP5G/ref=cm_cr_dp_d_show_all_top?ie=UTF8&reviewerType=all_reviews',\n",
    "               'https://www.amazon.com/Centrum-Multivitamin-Multimineral-Supplement-Vitamin/product-reviews/B072PVP4CJ/ref=cm_cr_dp_d_show_all_top?ie=UTF8&reviewerType=all_reviews',\n",
    "               'https://www.amazon.com/Centrum-Silver-Women-200-Count-Bottle/product-reviews/B00L3XNK32/ref=cm_cr_dp_d_show_all_top?ie=UTF8&reviewerType=all_reviews',\n",
    "               'https://www.amazon.com/Centrum-Multivitamin-Multimineral-Supplement-Vitamin/product-reviews/B0028AD6WO/ref=cm_cr_dp_d_show_all_top?ie=UTF8&reviewerType=all_reviews',\n",
    "               'https://www.amazon.com/Centrum-Multivitamin-Multimineral-Supplement-Vitamin/product-reviews/B072PVP4CJ/ref=cm_cr_dp_d_show_all_top?ie=UTF8&reviewerType=all_reviews',\n",
    "               'https://www.amazon.com/Centrum-Multivitamin-Multimineral-Supplement-Antioxidants/product-reviews/B00HLK0KAW/ref=cm_cr_dp_d_show_all_top?ie=UTF8&reviewerType=all_reviews',\n",
    "               'https://www.amazon.com/Centrum-Multivitamin-Multimineral-Supplement-Vitamin/product-reviews/B0000VLXUA/ref=cm_cr_dp_d_show_all_top?ie=UTF8&reviewerType=all_reviews'\n",
    "              ]\n",
    "\n",
    "page_count_arr = [7,43,78,57,43,88,126,43,7,78]\n",
    "user_agent = 'Mozilla/5.0 (Macintosh; Intel Mac OS X 10_12_6) AppleWebKit/537.36 (KHTML, like Gecko) Chrome/62.0.3202.94 Safari/537.36'\n",
    "headers = {'User-Agent': user_agent}\n",
    "# page = requests.get(amazon_url, headers = headers)\n",
    "# parser = html.fromstring(page.content)\n",
    "# soup = BeautifulSoup(page.content, 'html.parser')"
   ]
  },
  {
   "cell_type": "code",
   "execution_count": 104,
   "metadata": {},
   "outputs": [],
   "source": [
    "reviews = {}\n",
    "for i, url in enumerate(amazon_urls):\n",
    "    page_url = url\n",
    "    page = requests.get(page_url, headers = headers)\n",
    "    parser = html.fromstring(page.content)\n",
    "    soup = BeautifulSoup(page.content, 'html.parser')\n",
    "    xpath_reviews = '//div[@data-hook=\"review\"]'\n",
    "    reviews[page_url] = parser.xpath(xpath_reviews)\n",
    "    for j in range(2, page_count_arr[i]):\n",
    "        page_url = url.replace('cm_cr_dp_d_show_all_btm','cm_cr_arp_d_paging_btm_'+str(j))+'&pageNumber='+str(j)\n",
    "        page = requests.get(page_url, headers = headers)\n",
    "        parser = html.fromstring(page.content)\n",
    "        soup = BeautifulSoup(page.content, 'html.parser')\n",
    "        xpath_reviews = '//div[@data-hook=\"review\"]'\n",
    "        reviews[page_url] = parser.xpath(xpath_reviews)"
   ]
  },
  {
   "cell_type": "code",
   "execution_count": null,
   "metadata": {},
   "outputs": [],
   "source": [
    "xpath_rating  = './/i[@data-hook=\"review-star-rating\"]//text()' \n",
    "xpath_title   = './/a[@data-hook=\"review-title\"]//text()'\n",
    "xpath_author  = './/a[@data-hook=\"review-author\"]//text()'\n",
    "xpath_date    = './/span[@data-hook=\"review-date\"]//text()'\n",
    "xpath_body    = './/span[@data-hook=\"review-body\"]//text()'\n",
    "xpath_helpful = './/span[@data-hook=\"helpful-vote-statement\"]//text()'\n",
    "# print(reviews)"
   ]
  },
  {
   "cell_type": "code",
   "execution_count": null,
   "metadata": {},
   "outputs": [],
   "source": [
    "reviews_df = pd.DataFrame()\n",
    "for url in reviews:\n",
    "#     print(url)\n",
    "    for review in reviews[url]:\n",
    "        rating  = review.xpath(xpath_rating)\n",
    "        title   = review.xpath(xpath_title)\n",
    "        author  = review.xpath(xpath_author)\n",
    "        date    = review.xpath(xpath_date)\n",
    "        body    = review.xpath(xpath_body)\n",
    "        helpful = review.xpath(xpath_helpful)\n",
    "        review_dict = {'rating': rating[0],\n",
    "                       'title': title[0],\n",
    "                       'author': author,             \n",
    "                       'date': date[0],\n",
    "                       'body': body,\n",
    "                       'helpful': helpful,\n",
    "                       'url': url}\n",
    "        reviews_df = reviews_df.append(review_dict, ignore_index=True)"
   ]
  },
  {
   "cell_type": "code",
   "execution_count": null,
   "metadata": {},
   "outputs": [],
   "source": [
    "reviews_df"
   ]
  },
  {
   "cell_type": "code",
   "execution_count": null,
   "metadata": {},
   "outputs": [],
   "source": [
    "reviews_df.to_csv('Almond_Reviews_segmented_.csv', sep=',', encoding='utf-8')"
   ]
  },
  {
   "cell_type": "code",
   "execution_count": null,
   "metadata": {},
   "outputs": [],
   "source": []
  }
 ],
 "metadata": {
  "kernelspec": {
   "display_name": "Python 3",
   "language": "python",
   "name": "python3"
  },
  "language_info": {
   "codemirror_mode": {
    "name": "ipython",
    "version": 3
   },
   "file_extension": ".py",
   "mimetype": "text/x-python",
   "name": "python",
   "nbconvert_exporter": "python",
   "pygments_lexer": "ipython3",
   "version": "3.6.4"
  }
 },
 "nbformat": 4,
 "nbformat_minor": 2
}
